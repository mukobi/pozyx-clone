{
 "cells": [
  {
   "cell_type": "markdown",
   "metadata": {},
   "source": [
    "First, we need to import the libraries that contain definitions and tools used in the script."
   ]
  },
  {
   "cell_type": "code",
   "execution_count": null,
   "metadata": {},
   "outputs": [],
   "source": [
    "import pandas as pd\n",
    "import matplotlib.pyplot as plt\n",
    "import numpy as np\n",
    "import scipy.optimize as opt\n",
    "from scipy.optimize import curve_fit\n",
    "from math import pi"
   ]
  },
  {
   "cell_type": "markdown",
   "metadata": {},
   "source": [
    "We are dealing with multiple objects that have different physical properties. There is a file called physProps.py that exists in the same directory, that contains one class per object. Each class holds the physical properties of each object thrown. Below, we import each class that contains the properties of the object in question."
   ]
  },
  {
   "cell_type": "code",
   "execution_count": null,
   "metadata": {},
   "outputs": [],
   "source": [
    "from physProps import redBall, yellowBall, blueBall, orangeBall, rocket"
   ]
  },
  {
   "cell_type": "markdown",
   "metadata": {},
   "source": [
    "Params is used to that we can type math a little easier, allowing our plot labels to be typset nicer."
   ]
  },
  {
   "cell_type": "code",
   "execution_count": null,
   "metadata": {},
   "outputs": [],
   "source": [
    "params = {'mathtext.default': 'regular'}\n",
    "plt.rcParams.update(params)"
   ]
  },
  {
   "cell_type": "markdown",
   "metadata": {},
   "source": [
    "Because we want the script analyze the data file pertaining to the red ball, then the data file pertaining to the blue ball, etc, we create several arrays. Throughout this script, the first element of each array below will be run through the main loop. At the end of the loop, the second element of each array will be used. "
   ]
  },
  {
   "cell_type": "code",
   "execution_count": null,
   "metadata": {},
   "outputs": [],
   "source": [
    "ball = [redBall, yellowBall, blueBall, orangeBall, rocket]\n",
    "title = ['red ball', 'yellow ball', 'blue ball', 'orange ball', 'rocket']\n",
    "figname = ['redBall.pdf', 'yellowBall.pdf', 'blueBall.pdf', 'orangeBall.pdf', 'rocket.pdf'"
   ]
  },
  {
   "cell_type": "markdown",
   "metadata": {},
   "source": [
    "We need to tell the program which datalines we are interested in using, as shown below."
   ]
  },
  {
   "cell_type": "code",
   "execution_count": null,
   "metadata": {},
   "outputs": [],
   "source": [
    "rows = [slice(185,220,1), slice(159,192,1), slice(382,415,1), slice(2483,2540,1), slice(437,469,1)]"
   ]
  },
  {
   "cell_type": "markdown",
   "metadata": {},
   "source": [
    "Finally, we can begin writing our loops. Because we are analyzing 5 data files, we want to tell the program to iterate through each element in each of our arrays defined above. I'll also define some physical laws here because they will apply to each trial."
   ]
  },
  {
   "cell_type": "code",
   "execution_count": null,
   "metadata": {},
   "outputs": [],
   "source": [
    "for ii in range(5):\n",
    "    g = -9.81                 # gravity\n",
    "    Fg = g * ball[ii].mass    # force of gravity\n",
    "    rho = 1.225               # density of air at sea level at 20 degrees C"
   ]
  },
  {
   "cell_type": "markdown",
   "metadata": {},
   "source": [
    "Notice how Fg was defined above. \"ball\" is the array defined above, and \"ii\" is an element in the range of 5. The first time through the loop, \"ball[ii]\" is redBall, a class in physProps.py. redBall.mass calls the mass defined in the redBall class, and pulls it into this script."
   ]
  },
  {
   "cell_type": "markdown",
   "metadata": {},
   "source": [
    "Next, we use pandas to pull in our experimental data, which is currently saved as a .csv file."
   ]
  },
  {
   "cell_type": "code",
   "execution_count": null,
   "metadata": {},
   "outputs": [],
   "source": [
    "    df=pd.read_csv(datafile[ii], delimiter=',', usecols = [0,1,28]) # only use specified columns of data\n",
    "\n",
    "    df.columns = ['index', 'time', 'range'] # change column names from numbers to strings\n",
    "\n",
    "\n",
    "    df2 = df.ix[rows[ii]].dropna() #index range pertaining to data of interest"
   ]
  },
  {
   "cell_type": "markdown",
   "metadata": {},
   "source": [
    "For presentation purposes, we set the data to start at t=0 and d=0."
   ]
  },
  {
   "cell_type": "code",
   "execution_count": null,
   "metadata": {},
   "outputs": [],
   "source": [
    "    xa=df2['time'].values\n",
    "    xi = xa[0] # when was the ball released?\n",
    "    x_final = xa[-1] - xi # sets land time assuming drop time is zero\n",
    "    x2 = xa - xi # sets release time to zero\n",
    "\n",
    "    da=df2['range'].values*-0.001\n",
    "    di = da[0] # where was the ball released?\n",
    "    d_final = da[-1] - di # sets land position assuming throw position is zero\n",
    "    d2 = da - di # sets release position to zero"
   ]
  },
  {
   "cell_type": "markdown",
   "metadata": {},
   "source": [
    "We have to do some extra work on the rocket data set because it had some horizontal motion. We deal with this as shown below."
   ]
  },
  {
   "cell_type": "code",
   "execution_count": null,
   "metadata": {},
   "outputs": [],
   "source": [
    "    if datafile[ii] == 'rocket_launch.csv':\n",
    "\n",
    "        df3 = df.ix[168:216].dropna() # for newRange calculations\n",
    "        x3=df3['time'].values\n",
    "        raw_d3=df3['range'].values*0.001\n",
    "        d3 = raw_d3 - raw_d3[0]\n",
    "\n",
    "        dt = x3[-1] - x3[0]   # rocket's time in the air\n",
    "        s = d3[-1] - d3[0]    # final distance from anchor - initial distance from anchor\n",
    "        new_v = s / dt          # for discounting horizontal motion\n",
    "        new_x = new_v * dt      # for discounting horizontal motion\n",
    "\n",
    "        newd = np.sqrt(d2**2 - new_x**2) # total range discounting horizontal motion\n",
    "        plain_newRange = newd[~np.isnan(newd)]\n",
    "        newRange = plain_newRange - plain_newRange[0]\n",
    "\n",
    "        new_time = df2['time'].ix[167:216].values\n",
    "\n",
    "        adj_time = new_time - new_time[0]\n",
    "        \n",
    "    else:\n",
    "        pass"
   ]
  },
  {
   "cell_type": "markdown",
   "metadata": {},
   "source": [
    "Now we can begin the modeling part. "
   ]
  },
  {
   "cell_type": "code",
   "execution_count": null,
   "metadata": {},
   "outputs": [],
   "source": [
    "    N = 100 # allows you to create each model out of 100 points\n",
    "    if datafile [ii] == 'rocket_launch.csv':\n",
    "        plt.figure()\n",
    "        plt.plot(adj_time, newRange, 'o')\n",
    "        def func(x,a,b,c):\n",
    "            return a*(x**2) + b*x + c\n",
    "        pfit, success = opt.curve_fit(func,adj_time,newRange)\n",
    "        xx = np.linspace(adj_time[0],adj_time[-1],100)\n",
    "        plt.plot(xx,func(xx,*pfit),'--', alpha=.8)\n",
    "        gravity = 'a = {} m/s$^2$'.format(np.around(pfit[0]*-2, 3))\n",
    "        print(gravity)\n",
    "        plt.figtext(0.445,0.20, gravity, style='italic')\n",
    "        plt.tight_layout()\n",
    "    else:\n",
    "        plt.figure()\n",
    "        plt.plot(x2, d2, 'o')\n",
    "        def func(x,a,b,c):\n",
    "            return a*(x**2) + b*x + c\n",
    "        pfit, success = opt.curve_fit(func,x2,d2)\n",
    "        xx = np.linspace(x2[0],x2[-1],100)\n",
    "        plt.plot(xx,func(xx,*pfit),'--', alpha=.8)\n",
    "        print(pfit)\n",
    "        gravity = 'a = {} m/s$^2$'.format(np.around(pfit[0]*-2, 3))\n",
    "        print(gravity)\n",
    "        plt.figtext(0.445,0.20, gravity, style='italic')\n",
    "        plt.tight_layout()"
   ]
  },
  {
   "cell_type": "markdown",
   "metadata": {},
   "source": [
    "And finally, we can plot the models."
   ]
  },
  {
   "cell_type": "code",
   "execution_count": null,
   "metadata": {},
   "outputs": [],
   "source": [
    "    plt.xlabel(\"Time (s)\")\n",
    "    plt.ylabel(\"Position (s)\")\n",
    "    plt.title(\"{} Position\".format(title[ii]))\n",
    "    plt.legend()\n",
    "\n",
    "plt.show()"
   ]
  }
 ],
 "metadata": {
  "kernelspec": {
   "display_name": "Python 3",
   "language": "python",
   "name": "python3"
  },
  "language_info": {
   "codemirror_mode": {
    "name": "ipython",
    "version": 3
   },
   "file_extension": ".py",
   "mimetype": "text/x-python",
   "name": "python",
   "nbconvert_exporter": "python",
   "pygments_lexer": "ipython3",
   "version": "3.6.2"
  }
 },
 "nbformat": 4,
 "nbformat_minor": 2
}
